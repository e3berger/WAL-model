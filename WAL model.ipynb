{
 "cells": [
  {
   "cell_type": "code",
   "execution_count": 1,
   "metadata": {
    "collapsed": true
   },
   "outputs": [],
   "source": [
    "import numpy as np\n",
    "import matplotlib.pyplot as mpl\n",
    "\n",
    "import pandas as pd\n",
    "from scipy.optimize import curve_fit\n",
    "\n",
    "import ipywidgets as widgets\n",
    "from ipywidgets import interact, interact_manual"
   ]
  },
  {
   "cell_type": "code",
   "execution_count": 2,
   "metadata": {
    "collapsed": true
   },
   "outputs": [],
   "source": [
    "kb = 8.62e-5 #boltzmann constant, eV/K\n",
    "#hbar = 6.58e-16 #reduced Plank constant, in eV.s\n",
    "hbar = 1.0545718e-34 # Planck constant, J.s\n",
    "e = 1.60e-19 #electron charge in C\n",
    "m = 9.11e-31 #electron mass in kg\n",
    "RK = 1/(e/hbar/(2*np.pi)) #von Kiltzing constant = e^2/h\n",
    "\n",
    "def deriv (y, x, yaxis=0, xaxis=0): #finite central difference derivative -- first order; y is of type ndarray \n",
    "    diff = np.roll (y,1,axis=yaxis) - np.roll (y,-1,axis=yaxis)\n",
    "    dx = np.roll (x,1,axis=xaxis)  - np.roll (x,-1,axis=xaxis)\n",
    "    return diff/(dx)"
   ]
  },
  {
   "cell_type": "code",
   "execution_count": 3,
   "metadata": {
    "collapsed": true
   },
   "outputs": [],
   "source": [
    "fpath = '2018-05-09_13-24-18.csv'"
   ]
  },
  {
   "cell_type": "code",
   "execution_count": 4,
   "metadata": {
    "collapsed": false
   },
   "outputs": [
    {
     "data": {
      "text/html": [
       "<div>\n",
       "<table border=\"1\" class=\"dataframe\">\n",
       "  <thead>\n",
       "    <tr style=\"text-align: right;\">\n",
       "      <th></th>\n",
       "      <th>Time (s)</th>\n",
       "      <th>Dummy</th>\n",
       "      <th>temp (K)</th>\n",
       "      <th>Field (kG)</th>\n",
       "      <th>Voltage (V)</th>\n",
       "      <th>phase</th>\n",
       "    </tr>\n",
       "  </thead>\n",
       "  <tbody>\n",
       "    <tr>\n",
       "      <th>0</th>\n",
       "      <td>0.000000</td>\n",
       "      <td>0.0</td>\n",
       "      <td>1.456</td>\n",
       "      <td>-5.0</td>\n",
       "      <td>0.003843</td>\n",
       "      <td>-2.61</td>\n",
       "    </tr>\n",
       "    <tr>\n",
       "      <th>1</th>\n",
       "      <td>0.410361</td>\n",
       "      <td>0.0</td>\n",
       "      <td>1.456</td>\n",
       "      <td>-5.0</td>\n",
       "      <td>0.003843</td>\n",
       "      <td>-2.61</td>\n",
       "    </tr>\n",
       "    <tr>\n",
       "      <th>2</th>\n",
       "      <td>0.776122</td>\n",
       "      <td>0.0</td>\n",
       "      <td>1.456</td>\n",
       "      <td>-5.0</td>\n",
       "      <td>0.003843</td>\n",
       "      <td>-2.61</td>\n",
       "    </tr>\n",
       "    <tr>\n",
       "      <th>3</th>\n",
       "      <td>1.278135</td>\n",
       "      <td>0.0</td>\n",
       "      <td>1.456</td>\n",
       "      <td>-5.0</td>\n",
       "      <td>0.003842</td>\n",
       "      <td>-2.61</td>\n",
       "    </tr>\n",
       "    <tr>\n",
       "      <th>4</th>\n",
       "      <td>1.675765</td>\n",
       "      <td>0.0</td>\n",
       "      <td>1.456</td>\n",
       "      <td>-5.0</td>\n",
       "      <td>0.003842</td>\n",
       "      <td>-2.61</td>\n",
       "    </tr>\n",
       "  </tbody>\n",
       "</table>\n",
       "</div>"
      ],
      "text/plain": [
       "   Time (s)  Dummy  temp (K)  Field (kG)  Voltage (V)  phase\n",
       "0  0.000000    0.0     1.456        -5.0     0.003843  -2.61\n",
       "1  0.410361    0.0     1.456        -5.0     0.003843  -2.61\n",
       "2  0.776122    0.0     1.456        -5.0     0.003843  -2.61\n",
       "3  1.278135    0.0     1.456        -5.0     0.003842  -2.61\n",
       "4  1.675765    0.0     1.456        -5.0     0.003842  -2.61"
      ]
     },
     "execution_count": 4,
     "metadata": {},
     "output_type": "execute_result"
    }
   ],
   "source": [
    "fpathbase = './'\n",
    "fpathsplit = (fpathbase , fpath)\n",
    "fpathcat = fpathbase + fpath\n",
    "\n",
    "rdata = np.loadtxt (fpathcat,skiprows=1, dtype=float, delimiter=',')\n",
    "pfdata = pd.read_csv(fpathcat)\n",
    "\n",
    "pfdata.head()"
   ]
  },
  {
   "cell_type": "code",
   "execution_count": 5,
   "metadata": {
    "collapsed": true
   },
   "outputs": [],
   "source": [
    "num_loops = 1 #number of nested loops -- i.e. the number of parameters that are being swept in the experiment.\n",
    "loop_indices = [4] #indices of columns of the looping elements. \n",
    "\n",
    "# the next lines insure that the raw data is 'square', i.e. not missing a line or data point\n",
    "\n",
    "basic_shape = [len((rdata[:,c])) for c in loop_indices] # use CAUTIOUSLY if you do have duplicate data\n",
    "\n",
    "unique_length = 1\n",
    "for x in basic_shape:\n",
    "    unique_length = unique_length*x\n",
    "\n",
    "rshape = rdata.shape\n",
    "num_rows = rshape [0]\n",
    "num_cols = rshape [1]\n",
    "if unique_length != num_rows:\n",
    "    raise ValueError('Shape mismatch: Number of rows in raw data is %d, '%num_rows \\\n",
    "                     +'but looping over elements in columns  %s '%str(loop_indices) \\\n",
    "                     +'generates %d many unique elements'%unique_length) \n",
    "\n",
    "# format the data into a tensor with many 'dimensions' each of which represents one looping element\n",
    "tensor_shape = list(basic_shape)\n",
    "tensor_shape.append (num_cols)\n",
    "data_fmt = rdata.reshape (tensor_shape)"
   ]
  },
  {
   "cell_type": "code",
   "execution_count": 6,
   "metadata": {
    "collapsed": true
   },
   "outputs": [],
   "source": [
    "# TODO: autogenerate this code -- it's messy.\n",
    "# What are the indices of the quantities of interest\n",
    "b_index = 3\n",
    "#g_index = 0\n",
    "v_index = 4\n",
    "#i_index = 5\n",
    "vbias_index = 1\n",
    "\n",
    "# What are the conversion factors for the quantities of interest.\n",
    "# Format them such that x * x_conv gives a quantity in SI units.\n",
    "\n",
    "b_conv = 1.0 / 10 # kG to T\n",
    "#g_conv = 2\n",
    "v_conv = 1e6 # gain etc of the equipment, to V\n",
    "#i_conv = 1 # gain etc of the equipment, to A\n",
    "#vbias_conv = 22.0/272000"
   ]
  },
  {
   "cell_type": "code",
   "execution_count": 7,
   "metadata": {
    "collapsed": true
   },
   "outputs": [],
   "source": [
    "b_field = data_fmt[...,b_index]*b_conv\n",
    "#gate = data_fmt[...,g_index]*g_conv\n",
    "#current = data_fmt[...,i_index]*i_conv\n",
    "voltage = data_fmt[...,v_index]*v_conv\n",
    "#vbias = data_fmt[...,vbias_index]*vbias_conv\n",
    "\n",
    "# In a DC experiment, differentiate voltage w/r/t current to get resistance.\n",
    "#v_bias_axis = num_loops - 1 # the axis, in the \n",
    "# variables 'current' and 'voltage', along which v_bias is being swept\n",
    "#res = deriv (voltage, current, yaxis=v_bias_axis, xaxis=v_bias_axis) #resistance\n",
    "#cond = 1/res\n",
    "current = 100e-3\n",
    "\n",
    "# In a lock-in experiment, calculate resistance and conductance.\n",
    "cond = current/voltage\n",
    "res = voltage/current \n",
    "\n",
    "# for hall-bar experiments, what is the lenght to width ratio\n",
    "L2Wratio = 8\n",
    "\n",
    "cond_norm = cond * RK \n",
    "res_norm = res / RK \n",
    "\n",
    "#for hall-bar experiment, calculate resistivity and conductivity\n",
    "\n",
    "resistivity = res / L2Wratio\n",
    "conductivity = cond * L2Wratio\n",
    "\n",
    "# collect all the quantities we just calculated in a tensor called proc_data\n",
    "proc_data = np.array([voltage, cond_norm, res_norm, resistivity, conductivity])\n",
    "proc_data_shape = proc_data.shape\n",
    "\n",
    "# create a new tensor called data that contains the raw data, the pre-formatted data, and the proc_data\n",
    "num_new_cols = proc_data_shape[0]\n",
    "full_shape = list(tensor_shape)\n",
    "full_shape [-1] = full_shape[-1] + num_new_cols\n",
    "data=np.zeros(full_shape)\n",
    "data[...,0:num_cols] = data_fmt\n",
    "\n",
    "for c in range(num_new_cols):\n",
    "    data[...,num_cols+c]=proc_data[c]"
   ]
  },
  {
   "cell_type": "markdown",
   "metadata": {},
   "source": [
    "## Remove offset / shift from b_field"
   ]
  },
  {
   "cell_type": "code",
   "execution_count": 8,
   "metadata": {
    "collapsed": true
   },
   "outputs": [],
   "source": [
    "shift_0 = 0.008\n",
    "b_field = b_field - shift_0"
   ]
  },
  {
   "cell_type": "markdown",
   "metadata": {},
   "source": [
    "# Fitting to data start here \n",
    "\n",
    "## Defintions"
   ]
  },
  {
   "cell_type": "code",
   "execution_count": 9,
   "metadata": {
    "collapsed": true
   },
   "outputs": [],
   "source": [
    "h = hbar*(2*np.pi)\n",
    "alpha = 1e-11 #eVm\n",
    "carrierdensity = 8.9e15 #/m^2\n",
    "m_eff = 0.014*m #kg\n",
    "tao_tr = 1e-9\n",
    "tao_phi = 1e-6\n",
    "C = 2.71828 #Euler constant\n",
    "N=50\n",
    "\n",
    "k_F = np.sqrt(2*np.pi*carrierdensity)\n",
    "v_F = hbar*k_F/m_eff\n",
    "delta = 2*alpha*k_F\n",
    "D = hbar*v_F/delta\n",
    "\n",
    "#tao_s = 2*hbar**2/((delta**2)*tao_tr)\n",
    "#H_phi = hbar/(4*e*D*B*tao_phi)\n",
    "#H_tr = hbar/(4*e*D*B*tao_tr)\n",
    "#H_s = hbar/(4*e*D*B*tao_s)"
   ]
  },
  {
   "cell_type": "code",
   "execution_count": 10,
   "metadata": {
    "collapsed": true
   },
   "outputs": [],
   "source": [
    "#Define fucntions to be fit to data\n",
    "\n",
    "def a_n(N, B, H_phi, H_s):\n",
    "    #H_phi = hbar/(4.0*e*D*B*tao_phi)\n",
    "    # H_s = hbar/(4.0*e*D*B*tao_s)\n",
    "    return N + 1.0/2 + H_phi/B + H_s/B\n",
    "\n",
    "def sumOfSeries1(N, B, H_phi):\n",
    "    #H_phi = hbar/(4.0*e*D*B*tao_phi)\n",
    "    z = H_phi/B - 1.0/2\n",
    "    sum1 = 0\n",
    "    for i in range(1, N+1):\n",
    "        sum1 +=z/(i*(i + z))   \n",
    "    return sum1\n",
    " \n",
    "def sumOfSeries2(N, B, H_phi, H_s):\n",
    "    # H_phi = hbar/(4*e*D*B*tao_phi)\n",
    "    # H_s = hbar/(4*e*D*B*tao_s)\n",
    "    sum2 = 0\n",
    "    for i in range(1, N+1):\n",
    "        temp = (3.0/i  - (3*a_n(i,  B, H_phi, H_s)**2 + 2*a_n(i, B, H_phi, H_s)*(H_s/B) - 1 - 2*(2*i + 1)*(H_s/B))/((a_n(i, B, H_phi, H_s) + (H_s/B))*a_n(i-1, B, H_phi, H_s)*a_n(i+1, B, H_phi, H_s)\n",
    "                            - 2*(H_s/B)*((2*i +1)*a_n(i, B, H_phi, H_s)-1)))   \n",
    "        #print (temp)\n",
    "        sum2 += temp\n",
    "    return sum2"
   ]
  },
  {
   "cell_type": "code",
   "execution_count": 11,
   "metadata": {
    "collapsed": true
   },
   "outputs": [],
   "source": [
    "#def Psi(B, tao_phi):\n",
    "#   # C = 2.71828\n",
    "#   # H_phi = hbar/(4*e*D*B*tao_phi)\n",
    "#   # z = H_phi - 1/2\n",
    "#   # arg = 1 + z\n",
    "#   # return sumOfSeries1(N, B, tao_phi) - C\n",
    "\n",
    "# Function to be fit to data\n",
    "\n",
    "def func(B, H_phi, H_s, scale_const):\n",
    "    #H_tr = hbar/(4*e*D*B*tao_tr)\n",
    "    H_tr = 1 #H_tr<<1 for func to be valid\n",
    "    #H_phi = hbar/(4.0*e*D*B*tao_phi)\n",
    "    # H_s = hbar/(4.0*e*D*B*tao_s)\n",
    "    prefix = -e**2/(4*hbar*np.pi**2)\n",
    "    terms = (1.0/a_n(0, B, H_phi, H_s) + (2*a_n(0, B, H_phi, H_s) + 1 + (H_s/B))/(a_n(1, B, H_phi, H_s)*(a_n(0, B, H_phi, H_s) + (H_s/B)) - 2*(H_s/B))\n",
    "                          - sumOfSeries2(N, B, H_phi, H_s) + 2*np.log(H_tr/abs(B)) + (sumOfSeries1(N, B, H_phi) - C) + 3*C) \n",
    "    return scale_const*terms"
   ]
  },
  {
   "cell_type": "markdown",
   "metadata": {},
   "source": [
    "## Testing FUNC here"
   ]
  },
  {
   "cell_type": "code",
   "execution_count": null,
   "metadata": {
    "collapsed": true
   },
   "outputs": [],
   "source": [
    "g = lambda a,b : func (xdata, a,b,1)    "
   ]
  },
  {
   "cell_type": "code",
   "execution_count": null,
   "metadata": {
    "collapsed": true
   },
   "outputs": [],
   "source": [
    "def iplt (a,b):\n",
    "    fig, ax = mpl.subplots()\n",
    "    ax.plot (xdata, g(a,b), 'g--')\n",
    "    ax.plot (xdata, ydata, 'k-')\n",
    "    mpl.show()\n",
    "    return"
   ]
  },
  {
   "cell_type": "code",
   "execution_count": null,
   "metadata": {
    "collapsed": false
   },
   "outputs": [],
   "source": [
    "interact_manual (iplt,\n",
    "         a=widgets.FloatSlider(min=0,max=10,step=0.1,value=5),\n",
    "         b=widgets.FloatSlider(min=0,max=10,step=0.1,value=5),\n",
    "         )"
   ]
  },
  {
   "cell_type": "markdown",
   "metadata": {},
   "source": [
    "## Preparing data to be fit to FUNC here"
   ]
  },
  {
   "cell_type": "code",
   "execution_count": 12,
   "metadata": {
    "collapsed": false
   },
   "outputs": [],
   "source": [
    "xmask, xdata = np.transpose( [(i,c) for (i,c) in enumerate(b_field) if c>0] )\n",
    "\n",
    "xmask = np.asarray(xmask, dtype = 'int')\n",
    "\n",
    "ydata = (cond[xmask]*8 - .0001947)/(e**2/h) # cond(b)-cond(0) in units of e^2/h\n"
   ]
  },
  {
   "cell_type": "markdown",
   "metadata": {},
   "source": [
    "## Perform fitting below"
   ]
  },
  {
   "cell_type": "code",
   "execution_count": 13,
   "metadata": {
    "collapsed": false
   },
   "outputs": [
    {
     "data": {
      "text/plain": [
       "array([ -3.88725437e-04,   1.61163099e+00,   7.21170663e-02])"
      ]
     },
     "execution_count": 13,
     "metadata": {},
     "output_type": "execute_result"
    }
   ],
   "source": [
    "#Fit for the parameters a, b of the function func:\n",
    "\n",
    "popt, pcov = curve_fit(func, xdata, ydata, p0=[1,1,0.1])\n",
    "popt"
   ]
  },
  {
   "cell_type": "markdown",
   "metadata": {},
   "source": [
    "## Plot fitted function"
   ]
  },
  {
   "cell_type": "code",
   "execution_count": 18,
   "metadata": {
    "collapsed": false
   },
   "outputs": [],
   "source": [
    "f, ax = mpl.subplots()\n",
    "\n",
    "ax.plot(xdata, func(xdata, *popt), 'g--', label = 'fit')      \n",
    "ax.plot(xdata, ydata, label = 'data')\n",
    "\n",
    "ax.legend()\n",
    "\n",
    "mpl.show()"
   ]
  },
  {
   "cell_type": "code",
   "execution_count": null,
   "metadata": {
    "collapsed": true
   },
   "outputs": [],
   "source": []
  }
 ],
 "metadata": {
  "kernelspec": {
   "display_name": "Python 3",
   "language": "python",
   "name": "python3"
  },
  "language_info": {
   "codemirror_mode": {
    "name": "ipython",
    "version": 3
   },
   "file_extension": ".py",
   "mimetype": "text/x-python",
   "name": "python",
   "nbconvert_exporter": "python",
   "pygments_lexer": "ipython3",
   "version": "3.5.3"
  },
  "widgets": {
   "state": {
    "6a15fff69f0443afa31383d853759210": {
     "views": [
      {
       "cell_index": 17
      }
     ]
    }
   },
   "version": "1.2.0"
  }
 },
 "nbformat": 4,
 "nbformat_minor": 2
}
