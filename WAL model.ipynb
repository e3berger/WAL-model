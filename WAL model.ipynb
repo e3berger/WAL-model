{
 "cells": [
  {
   "cell_type": "code",
   "execution_count": 39,
   "metadata": {},
   "outputs": [],
   "source": [
    "import matplotlib\n",
    "import numpy as np\n",
    "import pandas as pd\n",
    "import scipy as sp\n",
    "from scipy.optimize import curve_fit\n",
    "from scipy import signal\n",
    "from numpy.fft import fft, fftfreq\n",
    "import math\n",
    "import matplotlib.pyplot as mpl\n",
    "from matplotlib.ticker import MultipleLocator\n",
    "\n",
    "matplotlib.use('nbAgg')\n",
    "#matplotlib.rcsetup.interactive_bk\n",
    "\n",
    "import matplotlib\n",
    "#matplotlib.get_backend()"
   ]
  },
  {
   "cell_type": "code",
   "execution_count": 40,
   "metadata": {},
   "outputs": [],
   "source": [
    "kb = 8.62e-5 #boltzmann constant, eV/K\n",
    "#hbar = 6.58e-16 #reduced Plank constant, in eV.s\n",
    "hbar = 1.0545718e-34 #m2 kg / s\n",
    "e = 1.60e-19 #electron charge in C\n",
    "m = 9.11e-31 #electron mass in kg\n",
    "RK = 1/(e/hbar/(2*np.pi)) #von Kiltzing constant = e^2/h\n",
    "\n",
    "mpl.rcParams['axes.linewidth'] = 1.0 #set the value globally\n",
    "\n",
    "def deriv (y, x, yaxis=0, xaxis=0): #finite central difference derivative -- first order; y is of type ndarray \n",
    "    diff = np.roll (y,1,axis=yaxis) - np.roll (y,-1,axis=yaxis)\n",
    "    dx = np.roll (x,1,axis=xaxis)  - np.roll (x,-1,axis=xaxis)\n",
    "    return diff/(dx)"
   ]
  },
  {
   "cell_type": "code",
   "execution_count": 41,
   "metadata": {
    "collapsed": true
   },
   "outputs": [],
   "source": [
    "fpath = '2018-05-09_13-24-18.csv'\n",
    "#fpath = '2018-05-09_16-05-06.csv'"
   ]
  },
  {
   "cell_type": "code",
   "execution_count": 42,
   "metadata": {},
   "outputs": [
    {
     "data": {
      "text/html": [
       "<div>\n",
       "<table border=\"1\" class=\"dataframe\">\n",
       "  <thead>\n",
       "    <tr style=\"text-align: right;\">\n",
       "      <th></th>\n",
       "      <th>Time (s)</th>\n",
       "      <th>Dummy</th>\n",
       "      <th>temp (K)</th>\n",
       "      <th>Field (kG)</th>\n",
       "      <th>Voltage (V)</th>\n",
       "      <th>phase</th>\n",
       "    </tr>\n",
       "  </thead>\n",
       "  <tbody>\n",
       "    <tr>\n",
       "      <th>0</th>\n",
       "      <td>0.000000</td>\n",
       "      <td>0.0</td>\n",
       "      <td>1.456</td>\n",
       "      <td>-5.0</td>\n",
       "      <td>0.003843</td>\n",
       "      <td>-2.61</td>\n",
       "    </tr>\n",
       "    <tr>\n",
       "      <th>1</th>\n",
       "      <td>0.410361</td>\n",
       "      <td>0.0</td>\n",
       "      <td>1.456</td>\n",
       "      <td>-5.0</td>\n",
       "      <td>0.003843</td>\n",
       "      <td>-2.61</td>\n",
       "    </tr>\n",
       "    <tr>\n",
       "      <th>2</th>\n",
       "      <td>0.776122</td>\n",
       "      <td>0.0</td>\n",
       "      <td>1.456</td>\n",
       "      <td>-5.0</td>\n",
       "      <td>0.003843</td>\n",
       "      <td>-2.61</td>\n",
       "    </tr>\n",
       "    <tr>\n",
       "      <th>3</th>\n",
       "      <td>1.278135</td>\n",
       "      <td>0.0</td>\n",
       "      <td>1.456</td>\n",
       "      <td>-5.0</td>\n",
       "      <td>0.003842</td>\n",
       "      <td>-2.61</td>\n",
       "    </tr>\n",
       "    <tr>\n",
       "      <th>4</th>\n",
       "      <td>1.675765</td>\n",
       "      <td>0.0</td>\n",
       "      <td>1.456</td>\n",
       "      <td>-5.0</td>\n",
       "      <td>0.003842</td>\n",
       "      <td>-2.61</td>\n",
       "    </tr>\n",
       "  </tbody>\n",
       "</table>\n",
       "</div>"
      ],
      "text/plain": [
       "   Time (s)  Dummy  temp (K)  Field (kG)  Voltage (V)  phase\n",
       "0  0.000000    0.0     1.456        -5.0     0.003843  -2.61\n",
       "1  0.410361    0.0     1.456        -5.0     0.003843  -2.61\n",
       "2  0.776122    0.0     1.456        -5.0     0.003843  -2.61\n",
       "3  1.278135    0.0     1.456        -5.0     0.003842  -2.61\n",
       "4  1.675765    0.0     1.456        -5.0     0.003842  -2.61"
      ]
     },
     "execution_count": 42,
     "metadata": {},
     "output_type": "execute_result"
    }
   ],
   "source": [
    "fpathbase = '/Users/Annelise/desktop/Spanish_Acquisition/ABG414HB2C2/'\n",
    "fpathsplit = (fpathbase , fpath)\n",
    "fpathcat = fpathbase + fpath\n",
    "\n",
    "rdata = np.loadtxt (fpathcat,skiprows=1, dtype=float, delimiter=',')\n",
    "pfdata = pd.read_csv(fpathcat)\n",
    "\n",
    "pfdata.head()"
   ]
  },
  {
   "cell_type": "code",
   "execution_count": 43,
   "metadata": {
    "collapsed": true
   },
   "outputs": [],
   "source": [
    "#num_loops = 2 #number of nested loops\n",
    "#loop_indices = [1,2] #indices of columns of the looping elements. \n",
    "\n",
    "num_loops = 1 #number of nested loops -- i.e. the number of parameters that are being swept in the experiment.\n",
    "loop_indices = [4] #indices of columns of the looping elements. \n",
    "\n",
    "# the next lines insure that the raw data is 'square', i.e. not missing a line or data point\n",
    "\n",
    "#basic_shape = [len(np.unique(rdata[:,c])) for c in loop_indices] # use this if you don't have duplicate data\n",
    "basic_shape = [len((rdata[:,c])) for c in loop_indices] # use CAUTIOUSLY if you do have duplicate data\n",
    "\n",
    "unique_length = 1\n",
    "for x in basic_shape:\n",
    "    unique_length = unique_length*x\n",
    "\n",
    "rshape = rdata.shape\n",
    "num_rows = rshape [0]\n",
    "num_cols = rshape [1]\n",
    "if unique_length != num_rows:\n",
    "    raise ValueError('Shape mismatch: Number of rows in raw data is %d, '%num_rows \\\n",
    "                     +'but looping over elements in columns  %s '%str(loop_indices) \\\n",
    "                     +'generates %d many unique elements'%unique_length) \n",
    "\n",
    "# format the data into a tensor with many 'dimensions' each of which represents one looping element\n",
    "tensor_shape = list(basic_shape)\n",
    "tensor_shape.append (num_cols)\n",
    "data_fmt = rdata.reshape (tensor_shape)"
   ]
  },
  {
   "cell_type": "code",
   "execution_count": 44,
   "metadata": {
    "collapsed": true
   },
   "outputs": [],
   "source": [
    "# TODO: autogenerate this code -- it's messy.\n",
    "# What are the indices of the quantities of interest\n",
    "b_index = 3\n",
    "#g_index = 0\n",
    "v_index = 4\n",
    "#i_index = 5\n",
    "vbias_index = 1\n",
    "\n",
    "# What are the conversion factors for the quantities of interest.\n",
    "# Format them such that x * x_conv gives a quantity in SI units.\n",
    "\n",
    "b_conv = 1.0 / 10 # kG to T\n",
    "#g_conv = 2\n",
    "v_conv = 1e6 # gain etc of the equipment, to V\n",
    "#i_conv = 1 # gain etc of the equipment, to A\n",
    "#vbias_conv = 22.0/272000"
   ]
  },
  {
   "cell_type": "code",
   "execution_count": 45,
   "metadata": {
    "collapsed": true
   },
   "outputs": [],
   "source": [
    "b_field = data_fmt[...,b_index]*b_conv\n",
    "#gate = data_fmt[...,g_index]*g_conv\n",
    "#current = data_fmt[...,i_index]*i_conv\n",
    "voltage = data_fmt[...,v_index]*v_conv\n",
    "#vbias = data_fmt[...,vbias_index]*vbias_conv\n",
    "\n",
    "# In a DC experiment, differentiate voltage w/r/t current to get resistance.\n",
    "#v_bias_axis = num_loops - 1 # the axis, in the \n",
    "# variables 'current' and 'voltage', along which v_bias is being swept\n",
    "#res = deriv (voltage, current, yaxis=v_bias_axis, xaxis=v_bias_axis) #resistance\n",
    "#cond = 1/res\n",
    "current = 100e-3\n",
    "\n",
    "# In a lock-in experiment, calculate resistance and conductance.\n",
    "cond = current/voltage\n",
    "res = voltage/current \n",
    "\n",
    "# for hall-bar experiments, what is the lenght to width ratio\n",
    "L2Wratio = 8\n",
    "\n",
    "cond_norm = cond * RK \n",
    "res_norm = res / RK \n",
    "\n",
    "#for hall-bar experiment, calculate resistivity and conductivity\n",
    "\n",
    "resistivity = res / L2Wratio\n",
    "conductivity = cond * L2Wratio\n",
    "\n",
    "# collect all the quantities we just calculated in a tensor called proc_data\n",
    "proc_data = np.array([voltage, cond_norm, res_norm, resistivity, conductivity])\n",
    "proc_data_shape = proc_data.shape\n",
    "\n",
    "# create a new tensor called data that contains the raw data, the pre-formatted data, and the proc_data\n",
    "num_new_cols = proc_data_shape[0]\n",
    "full_shape = list(tensor_shape)\n",
    "full_shape [-1] = full_shape[-1] + num_new_cols\n",
    "data=np.zeros(full_shape)\n",
    "data[...,0:num_cols] = data_fmt\n",
    "\n",
    "for c in range(num_new_cols):\n",
    "    data[...,num_cols+c]=proc_data[c]"
   ]
  },
  {
   "cell_type": "markdown",
   "metadata": {},
   "source": [
    "# Fitting to data start here \n",
    "\n",
    "## Defintions"
   ]
  },
  {
   "cell_type": "code",
   "execution_count": 46,
   "metadata": {},
   "outputs": [],
   "source": [
    "h = hbar/(2*np.pi)\n",
    "alpha = 1e-11 #eVm\n",
    "carrierdensity = 8.9e15 #/m^2\n",
    "m_eff = 0.014*m #kg\n",
    "tao_tr = 1e-9\n",
    "tao_phi = 1e-6\n",
    "C = 2.71828 #Euler constant\n",
    "N=50\n",
    "\n",
    "k_F = np.sqrt(2*np.pi*carrierdensity)\n",
    "v_F = hbar*k_F/m_eff\n",
    "delta = 2*alpha*k_F\n",
    "D = hbar*v_F/delta\n",
    "#tao_s = 2*hbar**2/((delta**2)*tao_tr)\n",
    "#H_phi = hbar/(4*e*D*B*tao_phi)\n",
    "#H_tr = hbar/(4*e*D*B*tao_tr)\n",
    "#H_s = hbar/(4*e*D*B*tao_s)"
   ]
  },
  {
   "cell_type": "code",
   "execution_count": 47,
   "metadata": {},
   "outputs": [],
   "source": [
    "#Define fucntions to be fit to data\n",
    "\n",
    "def a_n(N, B, H_phi, H_s):\n",
    "    #H_phi = hbar/(4.0*e*D*B*tao_phi)\n",
    "   # H_s = hbar/(4.0*e*D*B*tao_s)\n",
    "    return N + 1.0/2 + H_phi/B + H_s/B\n",
    "\n",
    "def sumOfSeries1(N, B, H_phi):\n",
    "    #H_phi = hbar/(4.0*e*D*B*tao_phi)\n",
    "    z = H_phi/B - 1.0/2\n",
    "    sum1 = 0\n",
    "    for i in range(1, N+1):\n",
    "        sum1 +=z/(i*(i + z))   \n",
    "    return sum1\n",
    " \n",
    "def sumOfSeries2(N, B, H_phi, H_s):\n",
    "   # H_phi = hbar/(4*e*D*B*tao_phi)\n",
    "   # H_s = hbar/(4*e*D*B*tao_s)\n",
    "    sum2 = 0\n",
    "    for i in range(1, N+1):\n",
    "        temp = (3/i  - (3*a_n(i,  B, H_phi, H_s)**2 + 2*a_n(i, B, H_phi, H_s)*(H_s/B) - 1 - 2*(2*i + 1)*(H_s/B))/((a_n(i, B, H_phi, H_s) + (H_s/B))*a_n(i-1, B, H_phi, H_s)*a_n(i+1, B, H_phi, H_s)\n",
    "                            - 2*(H_s/B)*((2*i +1)*a_n(i, B, H_phi, H_s)-1)))   \n",
    "        #print (temp)\n",
    "        sum2 += temp\n",
    "    return sum2\n",
    "\n",
    "#def Psi(B, tao_phi):\n",
    "   # C = 2.71828\n",
    "   # H_phi = hbar/(4*e*D*B*tao_phi)\n",
    "   # z = H_phi - 1/2\n",
    "   # arg = 1 + z\n",
    "   # return sumOfSeries1(N, B, tao_phi) - C\n",
    "\n",
    "# Function to be fit to data\n",
    "\n",
    "def func(B, H_phi, H_s):\n",
    "    #H_tr = hbar/(4*e*D*B*tao_tr)\n",
    "    H_tr = 1 #H_tr<<1 for func to be valid\n",
    "    #H_phi = hbar/(4.0*e*D*B*tao_phi)\n",
    "   # H_s = hbar/(4.0*e*D*B*tao_s)\n",
    "    \n",
    "    #return [(1/a_n(0, B, H_phi, H_s)), (2*a_n(0, B, H_phi, H_s) + 1 + (H_s/B))/(a_n(1, B, H_phi, H_s)*(a_n(0, B, H_phi, H_s) + (H_s/B)) - 2*(H_s/B)),\n",
    "                          #sumOfSeries2(N, B, H_phi, H_s), (sumOfSeries1(N, B, H_phi) - C) + 3*C]\n",
    "\n",
    "    return (-e**2/(4*hbar*np.pi**2))*(1/a_n(0, B, H_phi, H_s) + (2*a_n(0, B, H_phi, H_s) + 1 + (H_s/B))/(a_n(1, B, H_phi, H_s)*(a_n(0, B, H_phi, H_s) + (H_s/B)) - 2*(H_s/B))\n",
    "                          - sumOfSeries2(N, B, H_phi, H_s) + 2*np.log(H_tr/abs(B)) + (sumOfSeries1(N, B, H_phi) - C) + 3*C)\n"
   ]
  },
  {
   "cell_type": "code",
   "execution_count": 48,
   "metadata": {},
   "outputs": [],
   "source": [
    "xdata = abs(b_field)\n",
    "ydata = (cond*8 - .0001947)/(e**2/h) # cond(b)-cond(0) in units of e^2/h\n",
    "#sumOfSeries2(N, xdata, 1, 1)"
   ]
  },
  {
   "cell_type": "code",
   "execution_count": 49,
   "metadata": {},
   "outputs": [],
   "source": [
    "#func(xdata, 1, 1, 1)"
   ]
  },
  {
   "cell_type": "markdown",
   "metadata": {},
   "source": [
    "## Testing FUNC here"
   ]
  },
  {
   "cell_type": "code",
   "execution_count": 50,
   "metadata": {
    "collapsed": true
   },
   "outputs": [],
   "source": [
    "import ipywidgets as widgets\n",
    "from ipywidgets import interact, interact_manual"
   ]
  },
  {
   "cell_type": "code",
   "execution_count": 51,
   "metadata": {
    "collapsed": true
   },
   "outputs": [],
   "source": [
    "g = lambda a,b : func (xdata, a,b)    "
   ]
  },
  {
   "cell_type": "code",
   "execution_count": null,
   "metadata": {},
   "outputs": [],
   "source": []
  },
  {
   "cell_type": "code",
   "execution_count": 52,
   "metadata": {},
   "outputs": [],
   "source": [
    "def iplt (a,b):\n",
    "    fig, ax = mpl.subplots()\n",
    "    ax.plot (xdata, g(10.0**(-a),10.0**(-b)), 'g--')\n",
    "    ax.plot (xdata, ydata, 'k-')\n",
    "    mpl.show()\n",
    "    return"
   ]
  },
  {
   "cell_type": "code",
   "execution_count": 53,
   "metadata": {},
   "outputs": [
    {
     "data": {
      "image/png": "[encoded data removed]",
      "text/plain": [
       "<matplotlib.figure.Figure at 0x11b4ed0d0>"
      ]
     },
     "metadata": {},
     "output_type": "display_data"
    }
   ],
   "source": [
    "interact_manual (iplt,\n",
    "         a=widgets.IntSlider(min=0,max=100e-12,step=1,value=10),\n",
    "         b=widgets.IntSlider(min=0,max=100e-12,step=1,value=10),\n",
    "        # c=widgets.IntSlider(min=0,max=100e10,step=1,value=10),\n",
    "         )"
   ]
  },
  {
   "cell_type": "markdown",
   "metadata": {},
   "source": [
    "## Preparing data to be fit to FUNC here"
   ]
  },
  {
   "cell_type": "code",
   "execution_count": 146,
   "metadata": {},
   "outputs": [
    {
     "data": {
      "text/plain": [
       "array([  4.06037749e-08,   1.11100000e+03,   3.55734533e-09])"
      ]
     },
     "execution_count": 146,
     "metadata": {},
     "output_type": "execute_result"
    }
   ],
   "source": [
    "#Fit for the parameters a, b of the function func:\n",
    "xdata = abs(b_field[900:1100])\n",
    "#ydata = res/8 - 5131\n",
    "ydata = (cond[900:1100]*8 - .0001947)/(e**2/h) # cond(b)-cond(0) in units of e^2/h\n",
    "#ydata = (cond*8)/(e**2/h)\n",
    "\n",
    "popt, pcov = curve_fit(func, xdata, ydata, bounds=([0, 0, 0], [1111,1111,1111]))\n",
    "popt"
   ]
  },
  {
   "cell_type": "code",
   "execution_count": 147,
   "metadata": {},
   "outputs": [
    {
     "data": {
      "image/png": "[encoded data removed]",
      "text/plain": [
       "<matplotlib.figure.Figure at 0x1193e1610>"
      ]
     },
     "metadata": {},
     "output_type": "display_data"
    }
   ],
   "source": [
    "y = func(xdata, *popt)\n",
    "\n",
    "mpl.plot(b_field[900:1100], y)\n",
    "mpl.plot(b_field[900:1100]-0.012, ydata)\n",
    "mpl.show()"
   ]
  },
  {
   "cell_type": "code",
   "execution_count": 126,
   "metadata": {},
   "outputs": [
    {
     "data": {
      "text/plain": [
       "(300,)"
      ]
     },
     "execution_count": 126,
     "metadata": {},
     "output_type": "execute_result"
    }
   ],
   "source": [
    "ydata.shape\n",
    "#mpl.plot(xdata, func(xdata, *popt), 'r-',\n",
    "#    label='fit: a=%5.3f, b=%5.3f' % tuple(popt))\n",
    "#mpl.plot(xdata, func(xdata, *popt), 'r-',\n",
    "#         label='fit: a=%5.3f, b=%5.3f, c=%5.3f' % tuple(popt))"
   ]
  },
  {
   "cell_type": "code",
   "execution_count": 71,
   "metadata": {},
   "outputs": [],
   "source": [
    "#cond*8.0*h/(k_F*e**2)"
   ]
  },
  {
   "cell_type": "code",
   "execution_count": 72,
   "metadata": {},
   "outputs": [],
   "source": [
    "#hbar = 6.58e-16\n",
    "#h = hbar/(2.0*np.pi)\n",
    "#h = 6.626070040e-34\n",
    "#hbar = 1.054571800e-34\n",
    "#e = 1.60217662e-19\n",
    "#np.sqrt(2*hbar/(e*0.020))"
   ]
  },
  {
   "cell_type": "code",
   "execution_count": 73,
   "metadata": {
    "scrolled": false
   },
   "outputs": [],
   "source": [
    "#y = func(xdata, *popt)\n",
    "\n",
    "#mpl.plot(b_field, y)\n",
    "#mpl.plot(b_field, ydata)\n",
    "#mpl.show()\n"
   ]
  },
  {
   "cell_type": "markdown",
   "metadata": {},
   "source": [
    "## Perform fitting below"
   ]
  },
  {
   "cell_type": "code",
   "execution_count": 90,
   "metadata": {},
   "outputs": [
    {
     "data": {
      "text/plain": [
       "array([  1.00000000e+20,   5.00000000e+19,   2.99719281e-04])"
      ]
     },
     "execution_count": 90,
     "metadata": {},
     "output_type": "execute_result"
    }
   ],
   "source": [
    "#Constrain the optimization to the region of 0 <= a <= 10, 0 <= b <= 2:\n",
    "popt, pcov = curve_fit(func, xdata, ydata, bounds=([0, 0, 0], [2e20, 1e+20, 0.0003]), max_nfev = 500)\n",
    "\n",
    "popt\n",
    "#mpl.plot(xdata, func(xdata, *popt), 'g--',\n",
    " #         label='fit: a=%5.3f, b=%5.3f, c=%5.3f' % tuple(popt))"
   ]
  },
  {
   "cell_type": "markdown",
   "metadata": {},
   "source": [
    "## Perform Plotting of fitted function"
   ]
  },
  {
   "cell_type": "code",
   "execution_count": 91,
   "metadata": {},
   "outputs": [
    {
     "data": {
      "image/png": "[encoded data removed]",
      "text/plain": [
       "<matplotlib.figure.Figure at 0x11978ae10>"
      ]
     },
     "metadata": {},
     "output_type": "display_data"
    }
   ],
   "source": [
    "mpl.plot(b_field, func(xdata, *popt), 'g--',\n",
    "          label='fit: a=%5.3f, b=%5.3f, c=%5.3f' % tuple(popt))\n",
    "\n",
    "mpl.plot(b_field, ydata, label = 'data')\n",
    "\n",
    "mpl.xlabel('x')\n",
    "mpl.ylabel('y')\n",
    "mpl.legend()\n",
    "mpl.show()"
   ]
  },
  {
   "cell_type": "code",
   "execution_count": null,
   "metadata": {
    "collapsed": true
   },
   "outputs": [],
   "source": []
  },
  {
   "cell_type": "code",
   "execution_count": null,
   "metadata": {
    "collapsed": true
   },
   "outputs": [],
   "source": []
  }
 ],
 "metadata": {
  "kernelspec": {
   "display_name": "Python 2",
   "language": "python",
   "name": "python2"
  },
  "language_info": {
   "codemirror_mode": {
    "name": "ipython",
    "version": 2
   },
   "file_extension": ".py",
   "mimetype": "text/x-python",
   "name": "python",
   "nbconvert_exporter": "python",
   "pygments_lexer": "ipython2",
   "version": "2.7.13"
  },
  "widgets": {
   "state": {
    "6a15fff69f0443afa31383d853759210": {
     "views": [
      {
       "cell_index": 17
      }
     ]
    }
   },
   "version": "1.2.0"
  }
 },
 "nbformat": 4,
 "nbformat_minor": 2
}
